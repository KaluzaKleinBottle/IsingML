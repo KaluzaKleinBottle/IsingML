{
 "metadata": {
  "language_info": {
   "codemirror_mode": {
    "name": "ipython",
    "version": 3
   },
   "file_extension": ".py",
   "mimetype": "text/x-python",
   "name": "python",
   "nbconvert_exporter": "python",
   "pygments_lexer": "ipython3",
   "version": "3.8.6-final"
  },
  "orig_nbformat": 2,
  "kernelspec": {
   "name": "Python 3.8.6 64-bit",
   "display_name": "Python 3.8.6 64-bit",
   "metadata": {
    "interpreter": {
     "hash": "df4093ff62ee000eec078cd02037cca99feaaf0d7513c455654d45fc1e6af41f"
    }
   }
  }
 },
 "nbformat": 4,
 "nbformat_minor": 2,
 "cells": [
  {
   "cell_type": "code",
   "execution_count": 126,
   "metadata": {},
   "outputs": [],
   "source": [
    "%matplotlib inline\n",
    "from __future__ import division\n",
    "import numpy as np\n",
    "from numpy.random import rand\n",
    "import matplotlib.pyplot as plt"
   ]
  },
  {
   "cell_type": "code",
   "execution_count": 129,
   "metadata": {},
   "outputs": [],
   "source": [
    "class Ising():\n",
    "    def __init__(self, temp, n, msrmnt):\n",
    "        self.temp = temp\n",
    "        self.n = n\n",
    "        self.msrmnt = msrmnt\n",
    "\n",
    "    ''' Simulating the Ising model '''    \n",
    "    ## monte carlo moves\n",
    "    def mcmove(self, config, N, beta):\n",
    "        ''' This is to execute the monte carlo moves using \n",
    "        Metropolis algorithm such that detailed\n",
    "        balance condition is satisified'''\n",
    "        for i in range(N):\n",
    "            for j in range(N):            \n",
    "                    a = np.random.randint(0, N)\n",
    "                    b = np.random.randint(0, N)\n",
    "                    s =  config[a, b]\n",
    "                    nb = config[(a+1)%N,b] + config[a,(b+1)%N] + config[(a-1)%N,b] + config[a,(b-1)%N]\n",
    "                    cost = 2*s*nb\n",
    "                    if cost < 0:\t\n",
    "                        s *= -1\n",
    "                    elif rand() < np.exp(-cost*beta):\n",
    "                        s *= -1\n",
    "                    config[a, b] = s\n",
    "        return config\n",
    "    \n",
    "    def simulate(self):   \n",
    "        ''' This module simulates the Ising model'''\n",
    "#***MODIFY THIS TO CONVERT self.temp TEMPERATURE to thermodynamic beta*** \n",
    "        temp  = self.temp\n",
    "        N     = self.n        # Initialse the lattice\n",
    "        msrmnt = self.msrmnt\n",
    "        config = 2*np.random.randint(2, size=(N,N))-1\n",
    "        f = plt.figure(figsize=(15, 15), dpi=80);    \n",
    "        #self.configPlot(f, config, 0, N, 1);\n",
    "        # naming convention is path/Ising_<temperature>\n",
    "        plotpath = \"\"\n",
    "        plotname = [plotpath,\"Ising_\",str(self.temp)]\n",
    "        plotname = \"\".join(plotname)\n",
    "        for i in range(msrmnt+1):\n",
    "            self.mcmove(config, N, 1.0/(temp))\n",
    "            if i == msrmnt:    self.configPlot(f, config, i, N, 1);\n",
    "        f.savefig(plotname, transparent = True, bbox_inches = 'tight', pad_inches = 0)\n",
    "        plt.close(f)\n",
    "                    \n",
    "    def configPlot(self, f, config, i, N, n_):\n",
    "        ''' This modules plts the configuration once passed to it along with time etc '''\n",
    "        X, Y = np.meshgrid(range(N), range(N))\n",
    "        sp =  f.add_subplot(3, 3, n_ )  \n",
    "        plt.setp(sp.get_yticklabels(), visible=False)\n",
    "        plt.setp(sp.get_xticklabels(), visible=False)      \n",
    "        plt.gca().set_axis_off()\n",
    "        plt.subplots_adjust(top = 1, bottom = 0, right = 1, left = 0, \n",
    "            hspace = 0, wspace = 0)\n",
    "        plt.margins(0,0)\n",
    "        plt.pcolormesh(X, Y, config, cmap=plt.cm.RdBu);\n",
    "    "
   ]
  },
  {
   "cell_type": "code",
   "execution_count": 131,
   "metadata": {},
   "outputs": [],
   "source": [
    "# temp_dist is the input temperature distribution\n",
    "temp_dist = np.array([1,3,5])\n",
    "# n is resolution of image (nxn)\n",
    "n = 64\n",
    "# Final iteration/time\n",
    "msrmnt = 1000\n",
    "for temp in temp_dist:\n",
    "    rm = Ising(temp, n, msrmnt)\n",
    "    rm.simulate()"
   ]
  },
  {
   "cell_type": "code",
   "execution_count": null,
   "metadata": {},
   "outputs": [],
   "source": []
  }
 ]
}