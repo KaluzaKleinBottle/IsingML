{
 "metadata": {
  "language_info": {
   "codemirror_mode": {
    "name": "ipython",
    "version": 3
   },
   "file_extension": ".py",
   "mimetype": "text/x-python",
   "name": "python",
   "nbconvert_exporter": "python",
   "pygments_lexer": "ipython3",
   "version": "3.8.6-final"
  },
  "orig_nbformat": 2,
  "kernelspec": {
   "name": "python3",
   "display_name": "Python 3.8.6 64-bit",
   "metadata": {
    "interpreter": {
     "hash": "df4093ff62ee000eec078cd02037cca99feaaf0d7513c455654d45fc1e6af41f"
    }
   }
  }
 },
 "nbformat": 4,
 "nbformat_minor": 2,
 "cells": [
  {
   "cell_type": "code",
   "execution_count": 27,
   "metadata": {},
   "outputs": [],
   "source": [
    "%matplotlib inline\n",
    "from __future__ import division\n",
    "import numpy as np\n",
    "from numpy.random import rand\n",
    "import matplotlib.pyplot as plt\n",
    "import os.path\n",
    "from os import path"
   ]
  },
  {
   "cell_type": "code",
   "execution_count": 42,
   "metadata": {},
   "outputs": [],
   "source": [
    "class Ising():\n",
    "    def __init__(self, temp, n, msrmnt, delta):\n",
    "        self.temp = temp\n",
    "        self.n = n\n",
    "        self.msrmnt = msrmnt\n",
    "        self.delta = delta\n",
    "\n",
    "    ''' Simulating the Ising model '''    \n",
    "    ## monte carlo moves\n",
    "    def mcmove(self, config, N, beta, delta):\n",
    "        ''' This is to execute the monte carlo moves using \n",
    "        Metropolis algorithm such that detailed\n",
    "        balance condition is satisified'''\n",
    "        for i in range(N):\n",
    "            for j in range(N):            \n",
    "                    a = np.random.randint(0, N)\n",
    "                    b = np.random.randint(0, N)\n",
    "                    s =  config[a, b]\n",
    "                    energy_i = -1*(np.cos(s - config[(a+1)%N,b]) + np.cos(s - config[a,(b+1)%N]) + np.cos(s - config[(a-1)%N,b]) + np.cos(s - config[a,(b-1)%N]))\n",
    "                    dtheta = np.random.uniform(-1*np.pi,np.pi)\n",
    "                    spin_temp = s + dtheta\n",
    "                    energy_f = -1*(np.cos(spin_temp-config[(a+1)%N,b]) + np.cos(spin_temp-config[a,(b+1)%N]) + np.cos(spin_temp-config[(a-1)%N,b]) + np.cos(spin_temp-config[a,(b-1)%N]))\n",
    "                    delta_E = energy_f - energy_i\n",
    "                    if np.random.uniform(0.0, 1.0) < np.exp(-1 * beta * delta_E):\n",
    "                        s+= dtheta\n",
    "                    config[a,b] = s%(2*np.pi)\n",
    "                    '''\n",
    "                    sd = s + (delta*s)/2\n",
    "                    nb = np.sin(sd - config[(a+1)%N,b]) + np.sin(sd - config[a,(b+1)%N]) + np.sin(sd - config[(a-1)%N,b]) + np.sin(sd - config[a,(b-1)%N])\n",
    "                    #cost = 2*s*nb\n",
    "                    dtheta = np.random.uniform(-np.pi,np.pi)\n",
    "                    cost = 2*delta*s*nb\n",
    "                    if cost < 0:\t\n",
    "                        s += cost\n",
    "                    elif rand() < np.exp(-cost*beta):\n",
    "                        s += \n",
    "                    config[a, b] = s%(2*np.pi)\n",
    "                    '''\n",
    "        return config\n",
    "    \n",
    "    def simulate(self):   \n",
    "        ''' This module simulates the Ising model'''\n",
    "#***MODIFY THIS TO CONVERT self.temp TEMPERATURE to thermodynamic beta*** \n",
    "        temp  = self.temp\n",
    "        N     = self.n        # Initialse the lattice\n",
    "        msrmnt = self.msrmnt\n",
    "        delta = self.delta\n",
    "        config = np.random.uniform(low = 0*np.pi, high = 2*np.pi, size=(N,N))\n",
    "        \n",
    "        f = plt.figure(figsize=(15, 15), dpi=80);    \n",
    "        #self.configPlot(f, config, 0, N, 1);\n",
    "        \n",
    "        # naming convention is path/Ising_<temperature>\n",
    "        plotpath = \"\"\n",
    "        plotname = [plotpath,\"IsingXY_\",str(self.temp),\"_\"]\n",
    "        plotname = \"\".join(plotname)\n",
    "        i = 0\n",
    "        while os.path.exists(f\"{plotname}{i}.png\"):\n",
    "            i += 1\n",
    "        plotname = [plotname,str(i),\".png\"]\n",
    "        plotname = \"\".join(plotname)\n",
    "        \n",
    "        for i in range(msrmnt+1):\n",
    "            self.mcmove(config, N, 1.0/(temp), delta)\n",
    "            if i == msrmnt:    self.configPlot(f, config, i, N, 1);\n",
    "        print(\"Generated: \",plotname)\n",
    "        f.savefig(plotname, transparent = True, bbox_inches = 'tight', pad_inches = 0)\n",
    "        plt.close(f)\n",
    "                    \n",
    "    def configPlot(self, f, config, i, N, n_):\n",
    "        ''' This modules plts the configuration once passed to it along with time etc '''\n",
    "        X, Y = np.meshgrid(range(N), range(N))\n",
    "        sp =  f.add_subplot(3, 3, n_ )  \n",
    "        plt.setp(sp.get_yticklabels(), visible=False)\n",
    "        plt.setp(sp.get_xticklabels(), visible=False)      \n",
    "        plt.gca().set_axis_off()\n",
    "        plt.subplots_adjust(top = 1, bottom = 0, right = 1, left = 0, \n",
    "            hspace = 0, wspace = 0)\n",
    "        plt.margins(0,0)\n",
    "        plt.pcolormesh(X, Y, config, cmap=plt.cm.get_cmap('hsv'));\n",
    "    "
   ]
  },
  {
   "cell_type": "code",
   "execution_count": 43,
   "metadata": {},
   "outputs": [
    {
     "output_type": "stream",
     "name": "stdout",
     "text": [
      "Generated:  Ising_0.5_0.png\n",
      "Generated:  Ising_0.5_1.png\n",
      "Generated:  Ising_0.5_2.png\n"
     ]
    }
   ],
   "source": [
    "# temp_dist is the input temperature distribution\n",
    "temp_dist = np.array([0.5,0.5,0.5])\n",
    "# n is resolution of image (nxn)\n",
    "N = 128\n",
    "# Final iteration/time\n",
    "msrmnt = 1\n",
    "# delta\n",
    "delta = 0.001 \n",
    "for temp in temp_dist:\n",
    "    rm = Ising(temp, N, msrmnt, delta)\n",
    "    rm.simulate()"
   ]
  },
  {
   "cell_type": "code",
   "execution_count": null,
   "metadata": {},
   "outputs": [],
   "source": []
  }
 ]
}